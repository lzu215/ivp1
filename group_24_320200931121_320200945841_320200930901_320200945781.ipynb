{
 "cells": [
  {
   "cell_type": "markdown",
   "id": "68886c07",
   "metadata": {
    "pycharm": {
     "name": "#%% md\n"
    }
   },
   "source": [
    "## Project 1"
   ]
  },
  {
   "cell_type": "markdown",
   "id": "ce58850a",
   "metadata": {
    "pycharm": {
     "name": "#%% md\n"
    }
   },
   "source": [
    "+ Date: 2022/9/13"
   ]
  },
  {
   "cell_type": "markdown",
   "id": "7cc36118",
   "metadata": {
    "pycharm": {
     "name": "#%% md\n"
    }
   },
   "source": [
    "### Students"
   ]
  },
  {
   "cell_type": "markdown",
   "id": "33ef124e",
   "metadata": {
    "pycharm": {
     "name": "#%% md\n"
    }
   },
   "source": [
    "+ Wenbo Liu, wbliu20@lzu.edu.cn\n",
    "+ Xuda Han, hanxd20@lzu.edu.cn\n",
    "+ Chengkai Lin, linchk20@lzu.edu.cn\n",
    "+ Yifei Guo, guoyf20@lzu.edu.cn"
   ]
  },
  {
   "cell_type": "markdown",
   "id": "ea5bf351",
   "metadata": {
    "pycharm": {
     "name": "#%% md\n"
    }
   },
   "source": [
    "---"
   ]
  },
  {
   "cell_type": "markdown",
   "id": "5f54b4a1",
   "metadata": {},
   "source": [
    "Prerequisites"
   ]
  },
  {
   "cell_type": "code",
   "execution_count": 2,
   "id": "fc9bf22d",
   "metadata": {
    "collapsed": false,
    "pycharm": {
     "name": "#%%\n"
    }
   },
   "outputs": [],
   "source": [
    "import pandas as pd\n",
    "import matplotlib.pyplot as plt\n",
    "import seaborn as sns"
   ]
  },
  {
   "cell_type": "markdown",
   "id": "71ee12ee",
   "metadata": {
    "collapsed": false,
    "pycharm": {
     "name": "#%% md\n"
    }
   },
   "source": [
    "### Requirement 1 - 探索性数据分析"
   ]
  },
  {
   "cell_type": "markdown",
   "id": "fa263e06",
   "metadata": {},
   "source": [
    "Perform an exploratory analysis of the dataset. Remember that exploratory analyses do not need to be refined or clear. It is just a draft of several visualizations that help get familiar with the data.<br>\n",
    "Hence, in this step you should have several visualizations that help getting an idea of the datasets and will serve as a starting point to the explanatory visualizations in this project. (Don’t forget the difference between exploratory and explanatory).<br>\n",
    "Hint: Python notebooks are usually useful for exploratory analyses because you can combine python code, visualizations and markdown text. Use all of these elements."
   ]
  },
  {
   "cell_type": "markdown",
   "id": "7b74f72f",
   "metadata": {
    "collapsed": false,
    "pycharm": {
     "name": "#%% md\n"
    }
   },
   "source": [
    "#### 1.1 数据结构"
   ]
  },
  {
   "cell_type": "markdown",
   "id": "b5f0462a",
   "metadata": {
    "collapsed": false,
    "pycharm": {
     "name": "#%% md\n"
    }
   },
   "source": [
    "我们先对文档中特殊的列（algorithm, no_datapoints, no_features, train_energy(J)）进行读取，查看数据结构。"
   ]
  },
  {
   "cell_type": "code",
   "execution_count": 3,
   "id": "1cb43024",
   "metadata": {
    "collapsed": false,
    "pycharm": {
     "name": "#%%\n"
    }
   },
   "outputs": [
    {
     "data": {
      "text/html": [
       "<div>\n",
       "<style scoped>\n",
       "    .dataframe tbody tr th:only-of-type {\n",
       "        vertical-align: middle;\n",
       "    }\n",
       "\n",
       "    .dataframe tbody tr th {\n",
       "        vertical-align: top;\n",
       "    }\n",
       "\n",
       "    .dataframe thead th {\n",
       "        text-align: right;\n",
       "    }\n",
       "</style>\n",
       "<table border=\"1\" class=\"dataframe\">\n",
       "  <thead>\n",
       "    <tr style=\"text-align: right;\">\n",
       "      <th></th>\n",
       "      <th>algorithm</th>\n",
       "      <th>no_datapoints</th>\n",
       "      <th>no_features</th>\n",
       "      <th>train_energy(J)</th>\n",
       "    </tr>\n",
       "  </thead>\n",
       "  <tbody>\n",
       "    <tr>\n",
       "      <th>0</th>\n",
       "      <td>AdaBoost</td>\n",
       "      <td>2730</td>\n",
       "      <td>8169</td>\n",
       "      <td>1.037993</td>\n",
       "    </tr>\n",
       "    <tr>\n",
       "      <th>1</th>\n",
       "      <td>Decision Tree</td>\n",
       "      <td>3900</td>\n",
       "      <td>2451</td>\n",
       "      <td>0.068482</td>\n",
       "    </tr>\n",
       "    <tr>\n",
       "      <th>2</th>\n",
       "      <td>SVM</td>\n",
       "      <td>3900</td>\n",
       "      <td>4084</td>\n",
       "      <td>0.530155</td>\n",
       "    </tr>\n",
       "    <tr>\n",
       "      <th>3</th>\n",
       "      <td>AdaBoost</td>\n",
       "      <td>3900</td>\n",
       "      <td>1633</td>\n",
       "      <td>0.243067</td>\n",
       "    </tr>\n",
       "    <tr>\n",
       "      <th>4</th>\n",
       "      <td>Bagging Classifier</td>\n",
       "      <td>3900</td>\n",
       "      <td>6535</td>\n",
       "      <td>0.699298</td>\n",
       "    </tr>\n",
       "    <tr>\n",
       "      <th>...</th>\n",
       "      <td>...</td>\n",
       "      <td>...</td>\n",
       "      <td>...</td>\n",
       "      <td>...</td>\n",
       "    </tr>\n",
       "    <tr>\n",
       "      <th>3595</th>\n",
       "      <td>Random Forest</td>\n",
       "      <td>3900</td>\n",
       "      <td>4901</td>\n",
       "      <td>1.501089</td>\n",
       "    </tr>\n",
       "    <tr>\n",
       "      <th>3596</th>\n",
       "      <td>Bagging Classifier</td>\n",
       "      <td>1559</td>\n",
       "      <td>8169</td>\n",
       "      <td>0.170978</td>\n",
       "    </tr>\n",
       "    <tr>\n",
       "      <th>3597</th>\n",
       "      <td>SVM</td>\n",
       "      <td>3900</td>\n",
       "      <td>5718</td>\n",
       "      <td>1.108957</td>\n",
       "    </tr>\n",
       "    <tr>\n",
       "      <th>3598</th>\n",
       "      <td>Random Forest</td>\n",
       "      <td>1559</td>\n",
       "      <td>8169</td>\n",
       "      <td>0.581876</td>\n",
       "    </tr>\n",
       "    <tr>\n",
       "      <th>3599</th>\n",
       "      <td>AdaBoost</td>\n",
       "      <td>3900</td>\n",
       "      <td>8169</td>\n",
       "      <td>0.992407</td>\n",
       "    </tr>\n",
       "  </tbody>\n",
       "</table>\n",
       "<p>3600 rows × 4 columns</p>\n",
       "</div>"
      ],
      "text/plain": [
       "               algorithm  no_datapoints  no_features  train_energy(J)\n",
       "0               AdaBoost           2730         8169         1.037993\n",
       "1          Decision Tree           3900         2451         0.068482\n",
       "2                    SVM           3900         4084         0.530155\n",
       "3               AdaBoost           3900         1633         0.243067\n",
       "4     Bagging Classifier           3900         6535         0.699298\n",
       "...                  ...            ...          ...              ...\n",
       "3595       Random Forest           3900         4901         1.501089\n",
       "3596  Bagging Classifier           1559         8169         0.170978\n",
       "3597                 SVM           3900         5718         1.108957\n",
       "3598       Random Forest           1559         8169         0.581876\n",
       "3599            AdaBoost           3900         8169         0.992407\n",
       "\n",
       "[3600 rows x 4 columns]"
      ]
     },
     "execution_count": 3,
     "metadata": {},
     "output_type": "execute_result"
    }
   ],
   "source": [
    "df = pd.read_csv('results-2021-12-18.csv',usecols=['algorithm','no_datapoints','no_features','train_energy(J)'])\n",
    "df"
   ]
  },
  {
   "cell_type": "markdown",
   "id": "8b9197d2",
   "metadata": {
    "collapsed": false,
    "pycharm": {
     "name": "#%% md\n"
    }
   },
   "source": [
    "直接查看数据让人难以发现其中的规律，因此我们对数据按不同的算法进行了分类。我们发现：对于不同的算法，'no_datapoints'和'no_features'有相同的值，而当'no_datapoints'和'no_features'都相同时，'train_energy(J)'又有许多不同的值。"
   ]
  },
  {
   "cell_type": "code",
   "execution_count": 4,
   "id": "f657f296",
   "metadata": {
    "collapsed": false,
    "pycharm": {
     "name": "#%%\n"
    }
   },
   "outputs": [
    {
     "name": "stdout",
     "output_type": "stream",
     "text": [
      "     algorithm  no_datapoints  no_features  train_energy(J)\n",
      "0     AdaBoost           2730         8169         1.037993\n",
      "3     AdaBoost           3900         1633         0.243067\n",
      "7     AdaBoost           3119         8169         0.581184\n",
      "8     AdaBoost           3900         3268         0.407974\n",
      "25    AdaBoost           1169         8169         0.250212\n",
      "...        ...            ...          ...              ...\n",
      "3556  AdaBoost           3900          817         0.292578\n",
      "3558  AdaBoost           2340         8169         0.427181\n",
      "3560  AdaBoost           3900          817         0.266558\n",
      "3588  AdaBoost           1169         8169         0.155544\n",
      "3599  AdaBoost           3900         8169         0.992407\n",
      "\n",
      "[600 rows x 4 columns]\n",
      "               algorithm  no_datapoints  no_features  train_energy(J)\n",
      "4     Bagging Classifier           3900         6535         0.699298\n",
      "9     Bagging Classifier            779         8169         0.092099\n",
      "23    Bagging Classifier           3900         8169         0.768242\n",
      "24    Bagging Classifier           2340         8169         0.272036\n",
      "26    Bagging Classifier           3900         6535         0.524559\n",
      "...                  ...            ...          ...              ...\n",
      "3579  Bagging Classifier           3900         8169         0.745803\n",
      "3584  Bagging Classifier           3900         5718         0.000000\n",
      "3587  Bagging Classifier           3900         7352         0.570541\n",
      "3591  Bagging Classifier           3900         7352         0.720577\n",
      "3596  Bagging Classifier           1559         8169         0.170978\n",
      "\n",
      "[600 rows x 4 columns]\n",
      "          algorithm  no_datapoints  no_features  train_energy(J)\n",
      "1     Decision Tree           3900         2451         0.068482\n",
      "5     Decision Tree           1559         8169         0.114877\n",
      "11    Decision Tree           3900          817         0.041015\n",
      "16    Decision Tree           3900         5718         0.101314\n",
      "17    Decision Tree           1559         8169         0.041751\n",
      "...             ...            ...          ...              ...\n",
      "3568  Decision Tree           1950         8169         0.052837\n",
      "3569  Decision Tree           3900         8169         0.116585\n",
      "3573  Decision Tree           1950         8169         0.048154\n",
      "3583  Decision Tree           3900         8169         0.095911\n",
      "3589  Decision Tree           2340         8169         0.077276\n",
      "\n",
      "[600 rows x 4 columns]\n",
      "     algorithm  no_datapoints  no_features  train_energy(J)\n",
      "6          KNN           1950         8169         0.009219\n",
      "13         KNN            779         8169         0.005217\n",
      "21         KNN           3900         8169         0.027136\n",
      "35         KNN           3900         3268         0.013597\n",
      "44         KNN           1950         8169         0.005884\n",
      "...        ...            ...          ...              ...\n",
      "3572       KNN           3900         2451         0.011173\n",
      "3581       KNN           1169         8169         0.006098\n",
      "3586       KNN            779         8169         0.004294\n",
      "3590       KNN           3509         8169         0.011553\n",
      "3592       KNN            779         8169         0.004039\n",
      "\n",
      "[600 rows x 4 columns]\n",
      "          algorithm  no_datapoints  no_features  train_energy(J)\n",
      "14    Random Forest           3900         4084         1.060094\n",
      "15    Random Forest           3900         4084         1.452568\n",
      "22    Random Forest           2730         8169         2.783056\n",
      "27    Random Forest           3900         8169         1.873783\n",
      "30    Random Forest           2340         8169         1.062541\n",
      "...             ...            ...          ...              ...\n",
      "3580  Random Forest           3900         4084         1.421362\n",
      "3582  Random Forest           3900         6535         1.808927\n",
      "3594  Random Forest           3900         7352         1.853162\n",
      "3595  Random Forest           3900         4901         1.501089\n",
      "3598  Random Forest           1559         8169         0.581876\n",
      "\n",
      "[600 rows x 4 columns]\n",
      "     algorithm  no_datapoints  no_features  train_energy(J)\n",
      "2          SVM           3900         4084         0.530155\n",
      "10         SVM           3900         8169         0.412243\n",
      "12         SVM           1169         8169         0.058213\n",
      "18         SVM           3900         8169         0.636854\n",
      "19         SVM           3509         8169         0.501067\n",
      "...        ...            ...          ...              ...\n",
      "3570       SVM            779         8169         0.057513\n",
      "3577       SVM           3900         1633         0.275112\n",
      "3585       SVM           3900         5718         0.371999\n",
      "3593       SVM           2340         8169         0.000000\n",
      "3597       SVM           3900         5718         1.108957\n",
      "\n",
      "[600 rows x 4 columns]\n"
     ]
    }
   ],
   "source": [
    "algorithm = df.groupby('algorithm')\n",
    "for name,rows in algorithm:\n",
    "    print(rows)"
   ]
  },
  {
   "cell_type": "markdown",
   "id": "9f8ac170",
   "metadata": {
    "collapsed": false,
    "pycharm": {
     "name": "#%% md\n"
    }
   },
   "source": [
    "#### 1.2 双因素分析"
   ]
  },
  {
   "cell_type": "markdown",
   "id": "2b2da377",
   "metadata": {
    "collapsed": false,
    "pycharm": {
     "name": "#%% md\n"
    }
   },
   "source": [
    "我们构造了一个可以同时展现'no_datapoints'和'no_features'对'train_energy(J)'的影响的图片。为了方便发现规律，我们对数据按照 'algorithm','no_datapoints'和'no_features'三列进行了分类，并对分类后的'train_energy(J)'求均值。在图中我们可以看出：似乎，当'no_datapoints'和'no_features'的数值越大，训练一个模型所消耗的能量就越多。"
   ]
  },
  {
   "cell_type": "code",
   "execution_count": 5,
   "id": "368d1745",
   "metadata": {
    "collapsed": false,
    "pycharm": {
     "name": "#%%\n"
    }
   },
   "outputs": [],
   "source": [
    "def bifactor(dataframe:pd.DataFrame,columns):\n",
    "    grouped = dataframe.groupby(columns[-2::-1])\n",
    "    mean = grouped.mean()\n",
    "    mean.reset_index(inplace=True)\n",
    "    data = mean.groupby(columns[0])\n",
    "    fig,counter = plt.figure(figsize=(15,10)),1\n",
    "    sns.set_style('ticks')\n",
    "    for key,value in data:\n",
    "        axes = fig.add_subplot(2,3,counter)\n",
    "        axes.set_title(key)\n",
    "        sns.scatterplot(data=value,x=columns[1],y=columns[2],hue=columns[3],ax=axes)\n",
    "        sns.despine(top=True,right=True)\n",
    "        counter+=1\n",
    "    plt.show()"
   ]
  },
  {
   "cell_type": "code",
   "execution_count": 6,
   "id": "e24718f5",
   "metadata": {
    "collapsed": false,
    "pycharm": {
     "name": "#%%\n"
    }
   },
   "outputs": [
    {
     "data": {
      "image/png": "[encoded data removed]",
      "text/plain": [
       "<Figure size 1080x720 with 6 Axes>"
      ]
     },
     "metadata": {
      "needs_background": "light"
     },
     "output_type": "display_data"
    }
   ],
   "source": [
    "bifactor(df,['algorithm','no_datapoints','no_features','train_energy(J)'])"
   ]
  },
  {
   "cell_type": "markdown",
   "id": "b8c8224e",
   "metadata": {
    "collapsed": false,
    "pycharm": {
     "name": "#%% md\n"
    }
   },
   "source": [
    "#### 1.3 单因素分析"
   ]
  },
  {
   "cell_type": "markdown",
   "id": "f2ee0fcf",
   "metadata": {
    "collapsed": false,
    "pycharm": {
     "name": "#%% md\n"
    }
   },
   "source": [
    "从上述分析中我们得知'no_datapoints'，'no_features'和'train_energy(J)'之间似乎存在着某种线性关系，因此我们挑选了一个看起来相关性最为明显的算法('Random Forest')来进一步展现变量之间的关系。"
   ]
  },
  {
   "cell_type": "code",
   "execution_count": 7,
   "id": "9f442bb5",
   "metadata": {
    "collapsed": false,
    "pycharm": {
     "name": "#%%\n"
    }
   },
   "outputs": [],
   "source": [
    "def sgfactor(dataframe:pd.DataFrame,columns):\n",
    "    pass"
   ]
  },
  {
   "cell_type": "code",
   "execution_count": 7,
   "id": "068f7c8e",
   "metadata": {
    "collapsed": false,
    "pycharm": {
     "name": "#%%\n"
    }
   },
   "outputs": [],
   "source": []
  },
  {
   "cell_type": "markdown",
   "id": "24f35e04",
   "metadata": {
    "collapsed": false,
    "pycharm": {
     "name": "#%% md\n"
    }
   },
   "source": [
    "### Requirement 2"
   ]
  },
  {
   "cell_type": "markdown",
   "id": "ad50ddf5",
   "metadata": {},
   "source": [
    "Create a visualization that shows, for the algorithm SVM, how no_features affects energy consumption (train_energy(J)). This visualization should 1) choose the most suitable chart type, 2) follow the visualization guidelines taught in the class, and 3) be as simple as possible. If necessary, there should be a visual element highlighting how no_features correlates with train_energy(J).<br>\n",
    "Note that each experiment is repeated 30 times (as denoted by the feature iteration). You may want to use the average of these 30-sized samples and maybe its standard deviation."
   ]
  },
  {
   "cell_type": "code",
   "execution_count": 7,
   "id": "6d1c1ad9",
   "metadata": {
    "collapsed": false,
    "pycharm": {
     "name": "#%%\n"
    }
   },
   "outputs": [],
   "source": []
  },
  {
   "cell_type": "markdown",
   "id": "93e8bad3",
   "metadata": {
    "collapsed": false,
    "pycharm": {
     "name": "#%% md\n"
    }
   },
   "source": [
    "### Requirement 3"
   ]
  },
  {
   "cell_type": "markdown",
   "id": "d6433a99",
   "metadata": {},
   "source": [
    "Create a visualization that shows, for the algorithm SVM, how no_features affects energy consumption (train_energy(J)). This visualization should 1) choose the most suitable chart type, 2) follow the visualization guidelines taught in the class, and 3) be as simple as possible. If necessary, there should be a visual element highlighting how no_features correlates with train_energy(J).<br>\n",
    "Note that each experiment is repeated 30 times (as denoted by the feature iteration). You may want to use the average of these 30-sized samples and maybe its standard deviation."
   ]
  },
  {
   "cell_type": "code",
   "execution_count": 7,
   "id": "fa22d888",
   "metadata": {
    "collapsed": false,
    "pycharm": {
     "name": "#%%\n"
    }
   },
   "outputs": [],
   "source": []
  },
  {
   "cell_type": "markdown",
   "id": "6fb76d9d",
   "metadata": {
    "collapsed": false,
    "pycharm": {
     "name": "#%% md\n"
    }
   },
   "source": [
    "### Requirement 4"
   ]
  },
  {
   "cell_type": "markdown",
   "id": "be7252d5",
   "metadata": {},
   "source": [
    "Create a single plot that is able to capture most of the insights of the visualization in requirement 3. You wont be able to capture all the insights, but the idea is the capture as much as possible while keeping the visualization simple and interesting."
   ]
  },
  {
   "cell_type": "code",
   "execution_count": 7,
   "id": "d22544fb",
   "metadata": {
    "collapsed": false,
    "pycharm": {
     "name": "#%%\n"
    }
   },
   "outputs": [],
   "source": []
  },
  {
   "cell_type": "markdown",
   "id": "f41e4c27",
   "metadata": {},
   "source": [
    "### Requirement 5"
   ]
  },
  {
   "cell_type": "markdown",
   "id": "7860bb45",
   "metadata": {},
   "source": [
    "Create a visualization that shows an interesting insight in the data that was not unveiled by the visualizations of requirements 2, 3, and 4."
   ]
  },
  {
   "cell_type": "code",
   "execution_count": null,
   "id": "6f88182d",
   "metadata": {},
   "outputs": [],
   "source": []
  }
 ],
 "metadata": {
  "kernelspec": {
   "display_name": "Python 3 (ipykernel)",
   "language": "python",
   "name": "python3"
  },
  "language_info": {
   "codemirror_mode": {
    "name": "ipython",
    "version": 3
   },
   "file_extension": ".py",
   "mimetype": "text/x-python",
   "name": "python",
   "nbconvert_exporter": "python",
   "pygments_lexer": "ipython3",
   "version": "3.9.12"
  }
 },
 "nbformat": 4,
 "nbformat_minor": 5
}
